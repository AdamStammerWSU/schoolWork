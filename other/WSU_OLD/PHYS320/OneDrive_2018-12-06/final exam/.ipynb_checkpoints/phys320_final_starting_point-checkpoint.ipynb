{
 "cells": [
  {
   "cell_type": "markdown",
   "metadata": {},
   "source": [
    "# Physics 320 Final Exam\n",
    "\n",
    "The following cells import the data needed for the exam."
   ]
  },
  {
   "cell_type": "code",
   "execution_count": 79,
   "metadata": {},
   "outputs": [],
   "source": [
    "####Coded by Adam Stammer on 12/6/2018 for PHYS 320 Exam\n",
    "\n",
    "import pandas\n",
    "import matplotlib.pyplot as plt\n",
    "%matplotlib inline\n",
    "import numpy as np\n",
    "import math"
   ]
  },
  {
   "cell_type": "code",
   "execution_count": 80,
   "metadata": {},
   "outputs": [],
   "source": [
    "# this data comes from the Wisconsin DNR.  It is the raw data that's\n",
    "# used in this GIS application, https://dnrmaps.wi.gov/H5/?viewer=CWD\n",
    "data=pandas.read_csv(\"CWDposQSecXY-FILTERED.csv\")\n",
    "# deer with missing location or date of harvest have been removed from the dataset\n",
    "# this amounts to removing about 10 deer."
   ]
  },
  {
   "cell_type": "code",
   "execution_count": 81,
   "metadata": {},
   "outputs": [
    {
     "data": {
      "text/html": [
       "<div>\n",
       "<style scoped>\n",
       "    .dataframe tbody tr th:only-of-type {\n",
       "        vertical-align: middle;\n",
       "    }\n",
       "\n",
       "    .dataframe tbody tr th {\n",
       "        vertical-align: top;\n",
       "    }\n",
       "\n",
       "    .dataframe thead th {\n",
       "        text-align: right;\n",
       "    }\n",
       "</style>\n",
       "<table border=\"1\" class=\"dataframe\">\n",
       "  <thead>\n",
       "    <tr style=\"text-align: right;\">\n",
       "      <th></th>\n",
       "      <th>CWD_Barcod</th>\n",
       "      <th>Kill_Date</th>\n",
       "      <th>Township</th>\n",
       "      <th>Range</th>\n",
       "      <th>Range_Dir</th>\n",
       "      <th>Section</th>\n",
       "      <th>Quarter_Se</th>\n",
       "      <th>Deer_Sex</th>\n",
       "      <th>DTRSQ</th>\n",
       "      <th>X</th>\n",
       "      <th>Y</th>\n",
       "    </tr>\n",
       "  </thead>\n",
       "  <tbody>\n",
       "    <tr>\n",
       "      <th>0</th>\n",
       "      <td>-10001</td>\n",
       "      <td>11/23/2001</td>\n",
       "      <td>7</td>\n",
       "      <td>6</td>\n",
       "      <td>4</td>\n",
       "      <td>19</td>\n",
       "      <td>0</td>\n",
       "      <td>M</td>\n",
       "      <td>407061900</td>\n",
       "      <td>-89.828625</td>\n",
       "      <td>43.067481</td>\n",
       "    </tr>\n",
       "    <tr>\n",
       "      <th>1</th>\n",
       "      <td>-10002</td>\n",
       "      <td>11/23/2001</td>\n",
       "      <td>7</td>\n",
       "      <td>6</td>\n",
       "      <td>4</td>\n",
       "      <td>21</td>\n",
       "      <td>0</td>\n",
       "      <td>M</td>\n",
       "      <td>407062100</td>\n",
       "      <td>-89.789578</td>\n",
       "      <td>43.067855</td>\n",
       "    </tr>\n",
       "    <tr>\n",
       "      <th>2</th>\n",
       "      <td>-10003</td>\n",
       "      <td>11/23/2001</td>\n",
       "      <td>7</td>\n",
       "      <td>6</td>\n",
       "      <td>4</td>\n",
       "      <td>21</td>\n",
       "      <td>0</td>\n",
       "      <td>M</td>\n",
       "      <td>407062100</td>\n",
       "      <td>-89.789578</td>\n",
       "      <td>43.067855</td>\n",
       "    </tr>\n",
       "    <tr>\n",
       "      <th>3</th>\n",
       "      <td>100983</td>\n",
       "      <td>11/15/2004</td>\n",
       "      <td>7</td>\n",
       "      <td>6</td>\n",
       "      <td>4</td>\n",
       "      <td>17</td>\n",
       "      <td>4</td>\n",
       "      <td>M</td>\n",
       "      <td>407061740</td>\n",
       "      <td>-89.804249</td>\n",
       "      <td>43.078667</td>\n",
       "    </tr>\n",
       "    <tr>\n",
       "      <th>4</th>\n",
       "      <td>10108</td>\n",
       "      <td>9/24/2002</td>\n",
       "      <td>7</td>\n",
       "      <td>5</td>\n",
       "      <td>4</td>\n",
       "      <td>22</td>\n",
       "      <td>2</td>\n",
       "      <td>M</td>\n",
       "      <td>407052220</td>\n",
       "      <td>-89.892223</td>\n",
       "      <td>43.071200</td>\n",
       "    </tr>\n",
       "  </tbody>\n",
       "</table>\n",
       "</div>"
      ],
      "text/plain": [
       "   CWD_Barcod   Kill_Date  Township  Range  Range_Dir  Section  Quarter_Se  \\\n",
       "0      -10001  11/23/2001         7      6          4       19           0   \n",
       "1      -10002  11/23/2001         7      6          4       21           0   \n",
       "2      -10003  11/23/2001         7      6          4       21           0   \n",
       "3      100983  11/15/2004         7      6          4       17           4   \n",
       "4       10108   9/24/2002         7      5          4       22           2   \n",
       "\n",
       "  Deer_Sex      DTRSQ          X          Y  \n",
       "0        M  407061900 -89.828625  43.067481  \n",
       "1        M  407062100 -89.789578  43.067855  \n",
       "2        M  407062100 -89.789578  43.067855  \n",
       "3        M  407061740 -89.804249  43.078667  \n",
       "4        M  407052220 -89.892223  43.071200  "
      ]
     },
     "metadata": {},
     "output_type": "display_data"
    }
   ],
   "source": [
    "# x is degrees longitude, west of Grenwich UK\n",
    "# y is degrees Latitude, north of the equator\n",
    "display(data.iloc[0:5,])"
   ]
  },
  {
   "cell_type": "code",
   "execution_count": 82,
   "metadata": {},
   "outputs": [
    {
     "name": "stdout",
     "output_type": "stream",
     "text": [
      "year mo day\n",
      "2001 11 23\n"
     ]
    }
   ],
   "source": [
    "# parse the data into individual x,y (lat, long); sex; day, month, year etc arrays\n",
    "date=data.iloc[:,1].values\n",
    "sex=data.iloc[:,7].values\n",
    "x=data.iloc[:,9].values\n",
    "y=data.iloc[:,10].values\n",
    "day=[]\n",
    "month=[]\n",
    "year=[]\n",
    "for i in range(len(date)):\n",
    "    d=str(date[i])\n",
    "    e=d.split(\"/\")\n",
    "    month.append(int(e[0]))\n",
    "    day.append(int(e[1]))\n",
    "    year.append(int(e[2]))\n",
    "print(\"year mo day\")\n",
    "print(year[0],month[0],day[0])"
   ]
  },
  {
   "cell_type": "code",
   "execution_count": 83,
   "metadata": {},
   "outputs": [
    {
     "data": {
      "text/plain": [
       "Text(2005, 500, 'foo')"
      ]
     },
     "execution_count": 83,
     "metadata": {},
     "output_type": "execute_result"
    },
    {
     "data": {
      "image/png": "[encoded data removed]",
      "text/plain": [
       "<Figure size 432x288 with 1 Axes>"
      ]
     },
     "metadata": {},
     "output_type": "display_data"
    }
   ],
   "source": [
    "plt.hist(year)\n",
    "plt.text(2005,500,\"foo\")"
   ]
  },
  {
   "cell_type": "markdown",
   "metadata": {},
   "source": [
    "# Exam instructions start here\n",
    "\n",
    "## Exam Rules\n",
    "1. For full credit, please answer 5 questions correctly.  \n",
    "2. Extra (correct) answers count towards extra credit.  \n",
    "3. Your answers should be coded into this jupyter notebook.  \n",
    "4. At the end of the exam, please save the notebook and email it to me.\n",
    "5. You are allowed to use the internet.\n",
    "6. You are not allowed to email others or talk to others during the exam period. \n",
    "\n",
    "The data in this starter notebook is harvest location and date for deer that tested positive for Chronic Wasting Disease (CWD) in Wisconsin.  Data comes from the Wisconsin DNR, circa Oct 2018. Note, I filtered out ~10 deer from the set that had missing harvest location or date."
   ]
  },
  {
   "cell_type": "markdown",
   "metadata": {},
   "source": [
    "## Questions:"
   ]
  },
  {
   "cell_type": "markdown",
   "metadata": {},
   "source": [
    "1. Based on the data, how many total deer have tested positive for CWD in WI?"
   ]
  },
  {
   "cell_type": "code",
   "execution_count": 84,
   "metadata": {},
   "outputs": [
    {
     "name": "stdout",
     "output_type": "stream",
     "text": [
      "There were  4196  deer tha tested positive for CWD in this data set.\n"
     ]
    }
   ],
   "source": [
    "print(\"There were \", len(data), \" deer tha tested positive for CWD in this data set.\")"
   ]
  },
  {
   "cell_type": "markdown",
   "metadata": {},
   "source": [
    "2. What is the earliest recorded case of CWD in the data set?"
   ]
  },
  {
   "cell_type": "code",
   "execution_count": 85,
   "metadata": {},
   "outputs": [
    {
     "name": "stdout",
     "output_type": "stream",
     "text": [
      "The first recorded dear in this data set was recorded on  11 / 23 / 2001 .\n"
     ]
    }
   ],
   "source": [
    "lowestYear = 10000\n",
    "lowestMonth = 10000\n",
    "lowestDay = 10000\n",
    "maxYear = -1 #used in the next problem\n",
    "for i in range(len(data)):\n",
    "    d=str(date[i])\n",
    "    e=d.split(\"/\")\n",
    "    yearR = (int(e[2]))\n",
    "    if(yearR > maxYear):\n",
    "        maxYear = yearR\n",
    "    if(yearR < lowestYear):\n",
    "        lowestYear = yearR\n",
    "    if(yearR == lowestYear):\n",
    "        monthR = (int(e[0]))\n",
    "        if(monthR < lowestMonth):\n",
    "            lowestMonth = monthR\n",
    "            dayR = (int(e[1]))\n",
    "            if(dayR < lowestDay):\n",
    "                lowestDay = dayR\n",
    "print(\"The first recorded dear in this data set was recorded on \",lowestMonth,\"/\", lowestDay,\"/\",lowestYear,\".\")"
   ]
  },
  {
   "cell_type": "markdown",
   "metadata": {},
   "source": [
    "3. Create a histogram showing the number of CWD positive deer harvested per year."
   ]
  },
  {
   "cell_type": "code",
   "execution_count": 86,
   "metadata": {},
   "outputs": [
    {
     "data": {
      "text/plain": [
       "(array([167., 269., 371., 171., 358., 460., 326., 692., 729., 653.]),\n",
       " array([2001. , 2002.7, 2004.4, 2006.1, 2007.8, 2009.5, 2011.2, 2012.9,\n",
       "        2014.6, 2016.3, 2018. ]),\n",
       " <a list of 10 Patch objects>)"
      ]
     },
     "execution_count": 86,
     "metadata": {},
     "output_type": "execute_result"
    },
    {
     "data": {
      "image/png": "[encoded data removed]",
      "text/plain": [
       "<Figure size 432x288 with 1 Axes>"
      ]
     },
     "metadata": {},
     "output_type": "display_data"
    }
   ],
   "source": [
    "plt.xlabel(\"Year\")\n",
    "plt.ylabel(\"# of Deer Collected\")\n",
    "plt.hist(year, facecolor='blue', alpha=0.5, label=\"howdy\")"
   ]
  },
  {
   "cell_type": "markdown",
   "metadata": {},
   "source": [
    "4. Create a histogram showing CWD positive deer by year.  Break the data down by sex, eg, there were 23M and 19F deer in year x."
   ]
  },
  {
   "cell_type": "code",
   "execution_count": 87,
   "metadata": {},
   "outputs": [
    {
     "data": {
      "text/plain": [
       "<matplotlib.legend.Legend at 0x20c5da36860>"
      ]
     },
     "execution_count": 87,
     "metadata": {},
     "output_type": "execute_result"
    },
    {
     "data": {
      "image/png": "[encoded data removed]",
      "text/plain": [
       "<Figure size 432x288 with 1 Axes>"
      ]
     },
     "metadata": {},
     "output_type": "display_data"
    }
   ],
   "source": [
    "yearRange = maxYear - lowestYear\n",
    "females = np.zeros(yearRange)\n",
    "males = np.zeros(yearRange)\n",
    "for i in range(len(year)):\n",
    "    if(sex[i] == \"F\"):\n",
    "        females[year[i]-lowestYear - 1] += 1\n",
    "    else:\n",
    "        males[year[i] - lowestYear - 1] += 1\n",
    "plt.xlabel(\"Month\")\n",
    "plt.ylabel(\"# collected\")\n",
    "plt.plot(np.array(range(yearRange))+lowestYear, males, label=\"Males\")\n",
    "plt.plot(np.array(range(yearRange))+lowestYear, females, label=\"Females\")\n",
    "plt.legend()"
   ]
  },
  {
   "cell_type": "markdown",
   "metadata": {},
   "source": [
    "5. What is the most common month to harvest a CWD positive deer?  Make a histogram that shows the PROBABILITY of finding/harvesting a CWD positive deer in a given month."
   ]
  },
  {
   "cell_type": "code",
   "execution_count": 88,
   "metadata": {},
   "outputs": [
    {
     "data": {
      "text/plain": [
       "[<matplotlib.lines.Line2D at 0x20c5dc83b70>]"
      ]
     },
     "execution_count": 88,
     "metadata": {},
     "output_type": "execute_result"
    },
    {
     "data": {
      "image/png": "[encoded data removed]",
      "text/plain": [
       "<Figure size 432x288 with 1 Axes>"
      ]
     },
     "metadata": {},
     "output_type": "display_data"
    }
   ],
   "source": [
    "monthGathered = np.zeros(12)\n",
    "for i in range(len(month)):\n",
    "    monthGathered[month[i]-1]+=1\n",
    "monthGathered/=len(month)\n",
    "plt.xlabel(\"Month\")\n",
    "plt.ylabel(\"Probability\")\n",
    "plt.plot(range(12), monthGathered)"
   ]
  },
  {
   "cell_type": "markdown",
   "metadata": {},
   "source": [
    "6. What is the most common day of the month to harvest a CWD positive deer?  Make a histogram that shows the PROBABILITY of finding/harvesting a CWD positive deer on a given day."
   ]
  },
  {
   "cell_type": "code",
   "execution_count": 89,
   "metadata": {},
   "outputs": [
    {
     "data": {
      "text/plain": [
       "[<matplotlib.lines.Line2D at 0x20c5dcc1780>]"
      ]
     },
     "execution_count": 89,
     "metadata": {},
     "output_type": "execute_result"
    },
    {
     "data": {
      "image/png": "[encoded data removed]",
      "text/plain": [
       "<Figure size 432x288 with 1 Axes>"
      ]
     },
     "metadata": {},
     "output_type": "display_data"
    }
   ],
   "source": [
    "dayGathered = np.zeros(31)\n",
    "for i in range(len(day)):\n",
    "    dayGathered[day[i]-1]+=1\n",
    "dayGathered/=len(day)\n",
    "plt.title(\"Deer Collection By Day\")\n",
    "plt.xlabel(\"Day of Month\")\n",
    "plt.ylabel(\"Probability\")\n",
    "plt.plot(range(31), dayGathered)"
   ]
  },
  {
   "cell_type": "markdown",
   "metadata": {},
   "source": [
    "7. Modify the day of the month histogram plot to include/exclude November.  eg, What is the monst common day in November, and, what is the most common day in all other months?"
   ]
  },
  {
   "cell_type": "code",
   "execution_count": 90,
   "metadata": {},
   "outputs": [
    {
     "data": {
      "text/plain": [
       "<matplotlib.legend.Legend at 0x20c5dd37c88>"
      ]
     },
     "execution_count": 90,
     "metadata": {},
     "output_type": "execute_result"
    },
    {
     "data": {
      "image/png": "[encoded data removed]",
      "text/plain": [
       "<Figure size 432x288 with 1 Axes>"
      ]
     },
     "metadata": {},
     "output_type": "display_data"
    }
   ],
   "source": [
    "dayGathered = np.zeros(31)\n",
    "for i in range(len(day)):\n",
    "    if(month[i] == 10):\n",
    "        dayGathered[day[i]-1]+=1\n",
    "dayGathered/=len(day)\n",
    "plt.title(\"All Month Excluding November\")\n",
    "plt.xlabel(\"Day of Month\")\n",
    "plt.ylabel(\"Probability\")\n",
    "plt.plot(range(31), dayGathered, label=\"Just November\")\n",
    "\n",
    "#now for just november\n",
    "dayGathered = np.zeros(31)\n",
    "for i in range(len(day)):\n",
    "    if(month[i] != 10):\n",
    "        dayGathered[day[i]-1]+=1\n",
    "dayGathered/=len(day)\n",
    "plt.plot(range(31), dayGathered, label=\"Excluding November\")\n",
    "plt.legend()"
   ]
  },
  {
   "cell_type": "markdown",
   "metadata": {},
   "source": [
    "8. Make a plot showing all CWD positive cases for which data is available.  Use small plot markers (eg \",\" ).  Treating Lat,Long pairs as x, y coordinates is fine, but note that on most maps, Latitude is y, Longitude x - use this convention.  Label your plot axes!"
   ]
  },
  {
   "cell_type": "code",
   "execution_count": 91,
   "metadata": {},
   "outputs": [
    {
     "data": {
      "text/plain": [
       "Text(0, 0.5, 'Latitude')"
      ]
     },
     "execution_count": 91,
     "metadata": {},
     "output_type": "execute_result"
    },
    {
     "data": {
      "image/png": "[encoded data removed]",
      "text/plain": [
       "<Figure size 432x288 with 1 Axes>"
      ]
     },
     "metadata": {},
     "output_type": "display_data"
    }
   ],
   "source": [
    "plt.scatter(x, y )\n",
    "plt.xlabel(\"Longitude\")\n",
    "plt.ylabel(\"Latitude\")"
   ]
  },
  {
   "cell_type": "markdown",
   "metadata": {},
   "source": [
    "9. Add the following cities to your plot from #8:  Include a plot legend.  Put the legend in a reasonable place.\n",
    "````\n",
    "-91.633331,44.049999,\"Winona, MN\"\n",
    "-92.03462,44.381,\"Wabasha, MN\"\n",
    "-92.45942,44.01932,\"Rochester, MN\"\n",
    "-92.62812,44.85418,\"River Falls, WI\"\n",
    "-91.25192,43.81262,\"La Crosse, WI\"\n",
    "-91.50233,44.79916,\"Eau Claire, WI\"\n",
    "````\n",
    "If the legend is ugly or too big, you can annotate the city location with the plt.text() command, https://matplotlib.org/api/pyplot_api.html#matplotlib.pyplot.text"
   ]
  },
  {
   "cell_type": "code",
   "execution_count": null,
   "metadata": {},
   "outputs": [],
   "source": []
  },
  {
   "cell_type": "markdown",
   "metadata": {},
   "source": [
    "10. Where is the geographic center of the CWD epidemic in Wisconsin?  ie, what is the average lat, long of the data.  Add thispoint to your plot in #8."
   ]
  },
  {
   "cell_type": "code",
   "execution_count": null,
   "metadata": {},
   "outputs": [],
   "source": []
  },
  {
   "cell_type": "markdown",
   "metadata": {},
   "source": [
    "11. How has the geographic center of the epidemic changed over time?  Compute the center for each year (2001, 2002, 2003, etc) and make a plot showing how/if the center of the epidemic has moved over time.  Label your axes. If the center moves, consider labelling it's location with the annotate or text matplot sub command.  For example, text and an arrow with the anotate command, https://matplotlib.org/users/annotations_intro.html or simple text with the plt.text command, https://matplotlib.org/api/pyplot_api.html#matplotlib.pyplot.text"
   ]
  },
  {
   "cell_type": "code",
   "execution_count": null,
   "metadata": {},
   "outputs": [],
   "source": []
  },
  {
   "cell_type": "markdown",
   "metadata": {},
   "source": [
    "12. How has the average radius from geographic center of the epidemic changed over time? Compute and plot the average radius  of CWD cases from the epidemic center for each year."
   ]
  },
  {
   "cell_type": "code",
   "execution_count": null,
   "metadata": {},
   "outputs": [],
   "source": []
  },
  {
   "cell_type": "markdown",
   "metadata": {},
   "source": [
    "13. Make a series of histograms that show how the epidemic has spread (radially) from the epidemic center over time."
   ]
  },
  {
   "cell_type": "code",
   "execution_count": null,
   "metadata": {},
   "outputs": [],
   "source": []
  },
  {
   "cell_type": "markdown",
   "metadata": {},
   "source": [
    "14. Use odr to fit a 2-D Gaussian to the data for the radial spread of the epidemic.  "
   ]
  },
  {
   "cell_type": "code",
   "execution_count": null,
   "metadata": {},
   "outputs": [],
   "source": []
  },
  {
   "cell_type": "code",
   "execution_count": null,
   "metadata": {},
   "outputs": [],
   "source": []
  }
 ],
 "metadata": {
  "kernelspec": {
   "display_name": "Python 3",
   "language": "python",
   "name": "python3"
  },
  "language_info": {
   "codemirror_mode": {
    "name": "ipython",
    "version": 3
   },
   "file_extension": ".py",
   "mimetype": "text/x-python",
   "name": "python",
   "nbconvert_exporter": "python",
   "pygments_lexer": "ipython3",
   "version": "3.6.5"
  }
 },
 "nbformat": 4,
 "nbformat_minor": 2
}
