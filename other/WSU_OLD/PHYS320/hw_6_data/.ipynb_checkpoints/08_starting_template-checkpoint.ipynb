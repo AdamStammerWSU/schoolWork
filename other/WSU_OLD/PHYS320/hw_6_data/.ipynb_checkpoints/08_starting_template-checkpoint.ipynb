{
 "cells": [
  {
   "cell_type": "code",
   "execution_count": null,
   "metadata": {},
   "outputs": [],
   "source": []
  },
  {
   "cell_type": "code",
   "execution_count": 109,
   "metadata": {},
   "outputs": [],
   "source": [
    "# open up the europe datafile\n",
    "import pandas\n",
    "file_to_open=\"student_1.tsv\" # fill out the rest of this line\n",
    "data = pandas.read_csv(file_to_open, sep=\"\\t\")\n",
    "R = np.asfarray(data[\"R\"][1:])\n",
    "Vled = np.asfarray(data[\"Vled\"][1:])\n",
    "Vres = np.asfarray(data[\"Vres\"][1:])\n",
    "I = np.asfarray(data[\"I\"][1:])\n"
   ]
  },
  {
   "cell_type": "code",
   "execution_count": 110,
   "metadata": {},
   "outputs": [
    {
     "name": "stdout",
     "output_type": "stream",
     "text": [
      "     R  Vled  Vres     I\n",
      "0  Ohm     V     V    mA\n",
      "1  620  2.03  3.05   4.9\n",
      "2  820     2  3.09   3.4\n",
      "3  810  1.99   3.1   3.8\n",
      "4  220  2.21  2.82  12.9\n",
      "5  550  2.04     3   5.5\n",
      "6  390     2  2.98  7.79\n",
      "7  420  1.89  2.85  7.05\n",
      "     R  Vled  Vres     I\n",
      "4  220  2.21  2.82  12.9\n",
      "6  390     2  2.98  7.79\n",
      "7  420  1.89  2.85  7.05\n",
      "5  550  2.04     3   5.5\n",
      "1  620  2.03  3.05   4.9\n",
      "3  810  1.99   3.1   3.8\n",
      "2  820     2  3.09   3.4\n",
      "0  Ohm     V     V    mA\n"
     ]
    }
   ],
   "source": [
    "print(data)\n",
    "sortData=data.sort_values(\"R\")\n",
    "print(sortData)"
   ]
  },
  {
   "cell_type": "code",
   "execution_count": null,
   "metadata": {},
   "outputs": [],
   "source": []
  },
  {
   "cell_type": "code",
   "execution_count": 111,
   "metadata": {},
   "outputs": [],
   "source": []
  },
  {
   "cell_type": "code",
   "execution_count": 131,
   "metadata": {},
   "outputs": [
    {
     "data": {
      "text/plain": [
       "[<matplotlib.lines.Line2D at 0x164afe778d0>]"
      ]
     },
     "execution_count": 131,
     "metadata": {},
     "output_type": "execute_result"
    },
    {
     "data": {
      "image/png": "[encoded data removed]",
      "text/plain": [
       "<Figure size 432x288 with 1 Axes>"
      ]
     },
     "metadata": {},
     "output_type": "display_data"
    }
   ],
   "source": [
    "%matplotlib inline\n",
    "import matplotlib.pyplot as plt\n",
    "plt.xlabel(\"Resistance (Ohms)\")\n",
    "plt.ylabel(\"Current (mAmps)\")\n",
    "IR = sorted(zip(I, R))\n",
    "Rs = [x for _,x in IR]\n",
    "Is = [y for y,_ in IR]\n",
    "plt.plot(Rs,Is)"
   ]
  },
  {
   "cell_type": "code",
   "execution_count": 113,
   "metadata": {},
   "outputs": [],
   "source": [
    "P=I*Vled"
   ]
  },
  {
   "cell_type": "code",
   "execution_count": 114,
   "metadata": {},
   "outputs": [
    {
     "data": {
      "text/plain": [
       "array([ 9.947 ,  6.8   ,  7.562 , 28.509 , 11.22  , 15.58  , 13.3245])"
      ]
     },
     "execution_count": 114,
     "metadata": {},
     "output_type": "execute_result"
    }
   ],
   "source": []
  },
  {
   "cell_type": "code",
   "execution_count": null,
   "metadata": {},
   "outputs": [],
   "source": []
  }
 ],
 "metadata": {
  "kernelspec": {
   "display_name": "Python 3",
   "language": "python",
   "name": "python3"
  },
  "language_info": {
   "codemirror_mode": {
    "name": "ipython",
    "version": 3
   },
   "file_extension": ".py",
   "mimetype": "text/x-python",
   "name": "python",
   "nbconvert_exporter": "python",
   "pygments_lexer": "ipython3",
   "version": "3.6.5"
  }
 },
 "nbformat": 4,
 "nbformat_minor": 2
}
