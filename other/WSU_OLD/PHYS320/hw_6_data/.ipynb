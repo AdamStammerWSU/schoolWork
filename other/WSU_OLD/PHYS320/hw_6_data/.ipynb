{
 "cells": [
  {
   "cell_type": "code",
   "execution_count": null,
   "metadata": {},
   "outputs": [],
   "source": []
  },
  {
   "cell_type": "code",
   "execution_count": 152,
   "metadata": {},
   "outputs": [],
   "source": [
    "#read the data for student_1\n",
    "import pandas\n",
    "file_to_open=\"student_1.tsv\" # file to be opened\n",
    "data = pandas.read_csv(file_to_open, sep=\"\\t\")#open the file with tab as a seperator\n",
    "R = np.asfarray(data[\"R\"][1:]) # drop ohms label\n",
    "Vled = np.asfarray(data[\"Vled\"][1:])#drop v label\n",
    "Vres = np.asfarray(data[\"Vres\"][1:])#drop v label\n",
    "I = np.asfarray(data[\"I\"][1:])#drop mA label\n",
    "\n",
    "#and do the same for student_2\n",
    "file_to_open2=\"student_2.tsv\"#file to be opened\n",
    "data2 = pandas.read_csv(file_to_open2, sep=\"\\t\") #open the file with tab as a seperator\n",
    "R2 = np.asfarray(data2[\"R\"][1:]) # drop ohms label\n",
    "Vled2 = np.asfarray(data2[\"Vled\"][1:]) #drop V label\n",
    "Vres2 = np.asfarray(data2[\"Vres\"][1:]) #drop v label\n",
    "I2 = np.asfarray(data2[\"I\"][1:]) #drop mA label"
   ]
  },
  {
   "cell_type": "code",
   "execution_count": 153,
   "metadata": {},
   "outputs": [
    {
     "name": "stdout",
     "output_type": "stream",
     "text": [
      "     R  Vled  Vres     I\n",
      "4  220  2.21  2.82  12.9\n",
      "6  390     2  2.98  7.79\n",
      "7  420  1.89  2.85  7.05\n",
      "5  550  2.04     3   5.5\n",
      "1  620  2.03  3.05   4.9\n",
      "3  810  1.99   3.1   3.8\n",
      "2  820     2  3.09   3.4\n",
      "0  Ohm     V     V    mA\n",
      "     R  Vled  Vres     I\n",
      "1  160  2.97  2.01  12.3\n",
      "7  270  2.87  2.12   7.9\n",
      "6  430  2.79  2.21   5.1\n",
      "5  510  2.77  2.23   4.4\n",
      "2  620  2.74  2.27   3.7\n",
      "3  820   2.7   2.3   2.8\n",
      "4  910  2.69  2.31   2.6\n",
      "0  Ohm     V     V    mA\n"
     ]
    }
   ],
   "source": [
    "sortData=data.sort_values(\"R\") #sort the read data and sort it\n",
    "print(sortData) #display the data\n",
    "sortData2=data2.sort_values(\"R\") #sort the read data and sort it\n",
    "print(sortData2) #display the data"
   ]
  },
  {
   "cell_type": "code",
   "execution_count": null,
   "metadata": {},
   "outputs": [],
   "source": []
  },
  {
   "cell_type": "code",
   "execution_count": 111,
   "metadata": {},
   "outputs": [],
   "source": []
  },
  {
   "cell_type": "code",
   "execution_count": 157,
   "metadata": {},
   "outputs": [
    {
     "data": {
      "text/plain": [
       "[<matplotlib.lines.Line2D at 0x164b11aa9e8>]"
      ]
     },
     "execution_count": 157,
     "metadata": {},
     "output_type": "execute_result"
    },
    {
     "data": {
      "image/png": "[encoded data removed]",
      "text/plain": [
       "<Figure size 432x288 with 1 Axes>"
      ]
     },
     "metadata": {},
     "output_type": "display_data"
    }
   ],
   "source": [
    "%matplotlib inline\n",
    "import matplotlib.pyplot as plt\n",
    "plt.xlabel(\"Resistance (Ohms)\")\n",
    "plt.ylabel(\"Current (mAmps)\") #set up the graph\n",
    "IR = sorted(zip(I, R)) #sort the data\n",
    "Rs = [x for _,x in IR] #get the resistances from the sort list\n",
    "Is = [y for y,_ in IR] #get the currents from the sorted list\n",
    "plt.plot(Rs,Is, \"o\")\n",
    "\n",
    "#repeat for student_2\n",
    "IR2 = sorted(zip(I2, R2)) #sort the data\n",
    "Rs2 = [x for _,x in IR2] #get the resistances from the sort list\n",
    "Is2 = [y for y,_ in IR2] #get the currents from the sorted list\n",
    "plt.plot(Rs2,Is2, \"o\")"
   ]
  },
  {
   "cell_type": "code",
   "execution_count": 214,
   "metadata": {},
   "outputs": [
    {
     "data": {
      "text/plain": [
       "[<matplotlib.lines.Line2D at 0x164afe60b00>]"
      ]
     },
     "execution_count": 214,
     "metadata": {},
     "output_type": "execute_result"
    },
    {
     "data": {
      "image/png": "[encoded data removed]",
      "text/plain": [
       "<Figure size 432x288 with 1 Axes>"
      ]
     },
     "metadata": {},
     "output_type": "display_data"
    }
   ],
   "source": [
    "plt.xlabel(\"Resistance (Ohms)\")\n",
    "plt.ylabel(\"Power Over LED (mWatts)\")\n",
    "P=I*Vled #calculate the power\n",
    "RP = sorted(zip(R, P)) #put the data together and sort\n",
    "Ps = [x for _,x in RP] #get the sorted powers\n",
    "Rs = [y for y,_ in RP] #get the sorted resistances\n",
    "plt.plot(Rs, Ps, \"o\") #plot the data\n",
    "\n",
    "#repeat for student_2\n",
    "P2=I2*Vled2 #calculate the power\n",
    "RP2 = sorted(zip(R2, P2)) #put the data together and sort\n",
    "Ps2 = [x for _,x in RP2] #get the sorted powers\n",
    "Rs2 = [y for y,_ in RP2] #get the sorted resistances\n",
    "plt.plot(Rs2, Ps2, \"o\") #plot the data"
   ]
  },
  {
   "cell_type": "code",
   "execution_count": 218,
   "metadata": {},
   "outputs": [],
   "source": [
    "def bestFit(func, xList, yList):\n",
    "    x0 = [0.0, 0.0]\n",
    "    import scipy.optimize as optimization\n",
    "    sigma = [0]*len(xList)\n",
    "    return optimization.curve_fit(func, xList, yList, x0)"
   ]
  },
  {
   "cell_type": "code",
   "execution_count": 255,
   "metadata": {},
   "outputs": [],
   "source": [
    "def func1(x, a, b):\n",
    "    return a + b*x\n",
    "def getPlotLists(mb, x0, xx, xStep):\n",
    "    xList = np.array(range(x0, xx, xStep))\n",
    "    print(xList)\n",
    "    yList = [0] * len(xList)\n",
    "    print(yList)\n",
    "    for x in range (0, len(xList)):\n",
    "        yList[x] = mb[0] + x * mb[1]\n",
    "    return [xList, yList]"
   ]
  },
  {
   "cell_type": "code",
   "execution_count": 256,
   "metadata": {},
   "outputs": [
    {
     "name": "stdout",
     "output_type": "stream",
     "text": [
      "[29.63040336 -0.02988781]\n"
     ]
    }
   ],
   "source": [
    "    rRs = [0] * len(Rs)\n",
    "    for x in range(0, len(Rs)):\n",
    "        rRs[x] = 1/Rs[x]\n",
    "        \n",
    "#lets test out best fit for the power/resistance graph above\n",
    "mxb = bestFit(func1, Rs, Ps)\n",
    "print(mxb[0])"
   ]
  },
  {
   "cell_type": "code",
   "execution_count": 257,
   "metadata": {},
   "outputs": [
    {
     "name": "stdout",
     "output_type": "stream",
     "text": [
      "[  0  25  50  75 100 125 150 175 200 225 250 275 300 325 350 375 400 425\n",
      " 450 475 500 525 550 575 600 625 650 675 700 725 750 775 800 825 850 875\n",
      " 900 925 950 975]\n",
      "[0, 0, 0, 0, 0, 0, 0, 0, 0, 0, 0, 0, 0, 0, 0, 0, 0, 0, 0, 0, 0, 0, 0, 0, 0, 0, 0, 0, 0, 0, 0, 0, 0, 0, 0, 0, 0, 0, 0, 0]\n",
      "[array([[29.63040336, -0.02988781],\n",
      "       [29.63040336, -0.02988781]]), array([[ 4.39524000e+01, -5.28168967e-02],\n",
      "       [ 2.96074743e+01, -2.98459060e-02]]), array([[ 5.82743967e+01, -7.57459804e-02],\n",
      "       [ 2.95845452e+01, -2.98039990e-02]]), array([[ 7.25963934e+01, -9.86750642e-02],\n",
      "       [ 2.95616161e+01, -2.97620921e-02]]), array([[ 8.69183901e+01, -1.21604148e-01],\n",
      "       [ 2.95386870e+01, -2.97201852e-02]]), array([[ 1.01240387e+02, -1.44533232e-01],\n",
      "       [ 2.95157579e+01, -2.96782782e-02]]), array([[ 1.15562383e+02, -1.67462315e-01],\n",
      "       [ 2.94928289e+01, -2.96363713e-02]]), array([[ 1.29884380e+02, -1.90391399e-01],\n",
      "       [ 2.94698998e+01, -2.95944643e-02]]), array([[ 1.44206377e+02, -2.13320483e-01],\n",
      "       [ 2.94469707e+01, -2.95525574e-02]]), array([[ 1.58528373e+02, -2.36249567e-01],\n",
      "       [ 2.94240416e+01, -2.95106504e-02]]), array([[ 1.72850370e+02, -2.59178650e-01],\n",
      "       [ 2.94011125e+01, -2.94687435e-02]]), array([[ 1.87172367e+02, -2.82107734e-01],\n",
      "       [ 2.93781834e+01, -2.94268366e-02]]), array([[ 2.01494363e+02, -3.05036818e-01],\n",
      "       [ 2.93552544e+01, -2.93849296e-02]]), array([[ 2.15816360e+02, -3.27965902e-01],\n",
      "       [ 2.93323253e+01, -2.93430227e-02]]), array([[ 2.30138357e+02, -3.50894986e-01],\n",
      "       [ 2.93093962e+01, -2.93011157e-02]]), array([[ 2.44460354e+02, -3.73824069e-01],\n",
      "       [ 2.92864671e+01, -2.92592088e-02]]), array([[ 2.58782350e+02, -3.96753153e-01],\n",
      "       [ 2.92635380e+01, -2.92173019e-02]]), array([[ 2.73104347e+02, -4.19682237e-01],\n",
      "       [ 2.92406089e+01, -2.91753949e-02]]), array([[ 2.87426344e+02, -4.42611321e-01],\n",
      "       [ 2.92176798e+01, -2.91334880e-02]]), array([[ 3.01748340e+02, -4.65540404e-01],\n",
      "       [ 2.91947508e+01, -2.90915810e-02]]), array([[ 3.16070337e+02, -4.88469488e-01],\n",
      "       [ 2.91718217e+01, -2.90496741e-02]]), array([[ 3.30392334e+02, -5.11398572e-01],\n",
      "       [ 2.91488926e+01, -2.90077672e-02]]), array([[ 3.44714330e+02, -5.34327656e-01],\n",
      "       [ 2.91259635e+01, -2.89658602e-02]]), array([[ 3.59036327e+02, -5.57256739e-01],\n",
      "       [ 2.91030344e+01, -2.89239533e-02]]), array([[ 3.73358324e+02, -5.80185823e-01],\n",
      "       [ 2.90801053e+01, -2.88820463e-02]]), array([[ 3.87680320e+02, -6.03114907e-01],\n",
      "       [ 2.90571763e+01, -2.88401394e-02]]), array([[ 4.02002317e+02, -6.26043991e-01],\n",
      "       [ 2.90342472e+01, -2.87982324e-02]]), array([[ 4.16324314e+02, -6.48973074e-01],\n",
      "       [ 2.90113181e+01, -2.87563255e-02]]), array([[ 4.30646310e+02, -6.71902158e-01],\n",
      "       [ 2.89883890e+01, -2.87144186e-02]]), array([[ 4.44968307e+02, -6.94831242e-01],\n",
      "       [ 2.89654599e+01, -2.86725116e-02]]), array([[ 4.59290304e+02, -7.17760326e-01],\n",
      "       [ 2.89425308e+01, -2.86306047e-02]]), array([[ 4.73612300e+02, -7.40689409e-01],\n",
      "       [ 2.89196018e+01, -2.85886977e-02]]), array([[ 4.87934297e+02, -7.63618493e-01],\n",
      "       [ 2.88966727e+01, -2.85467908e-02]]), array([[ 5.02256294e+02, -7.86547577e-01],\n",
      "       [ 2.88737436e+01, -2.85048839e-02]]), array([[ 5.16578290e+02, -8.09476661e-01],\n",
      "       [ 2.88508145e+01, -2.84629769e-02]]), array([[ 5.30900287e+02, -8.32405744e-01],\n",
      "       [ 2.88278854e+01, -2.84210700e-02]]), array([[ 5.45222284e+02, -8.55334828e-01],\n",
      "       [ 2.88049563e+01, -2.83791630e-02]]), array([[ 5.59544280e+02, -8.78263912e-01],\n",
      "       [ 2.87820273e+01, -2.83372561e-02]]), array([[ 5.73866277e+02, -9.01192996e-01],\n",
      "       [ 2.87590982e+01, -2.82953491e-02]]), array([[ 5.88188274e+02, -9.24122079e-01],\n",
      "       [ 2.87361691e+01, -2.82534422e-02]])]\n"
     ]
    },
    {
     "data": {
      "image/png": "[encoded data removed]",
      "text/plain": [
       "<Figure size 432x288 with 1 Axes>"
      ]
     },
     "metadata": {},
     "output_type": "display_data"
    }
   ],
   "source": [
    "plt.xlabel(\"Resistance (Ohms)\")\n",
    "plt.ylabel(\"Power Over LED (mWatts)\")\n",
    "\n",
    "plt.plot(Rs, Ps, \"o\") #plot the data\n",
    "plt.plot(Rs2, Ps2, \"o\") #plot the data\n",
    "\n",
    "bestFitX, bestFitY = getPlotLists(mxb, 0, 1000, 25)\n",
    "print(bestFitY)\n",
    "#plt.plot(bestFitX, bestFitY)"
   ]
  },
  {
   "cell_type": "markdown",
   "metadata": {},
   "source": [
    "I thought this would be a good time to try to use sciPy. Best fit line solvers are easier to debug than differential equation solvers if you ask me. I think I'm really close but I'm not quite there."
   ]
  },
  {
   "cell_type": "code",
   "execution_count": null,
   "metadata": {},
   "outputs": [],
   "source": []
  }
 ],
 "metadata": {
  "kernelspec": {
   "display_name": "Python 3",
   "language": "python",
   "name": "python3"
  },
  "language_info": {
   "codemirror_mode": {
    "name": "ipython",
    "version": 3
   },
   "file_extension": ".py",
   "mimetype": "text/x-python",
   "name": "python",
   "nbconvert_exporter": "python",
   "pygments_lexer": "ipython3",
   "version": "3.6.5"
  }
 },
 "nbformat": 4,
 "nbformat_minor": 2
}
