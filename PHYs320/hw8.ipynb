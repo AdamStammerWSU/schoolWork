{
 "cells": [
  {
   "cell_type": "code",
   "execution_count": 29,
   "metadata": {},
   "outputs": [],
   "source": [
    "import math\n",
    "import numpy as np\n",
    "import random\n",
    "import matplotlib.pyplot as plt\n",
    "%matplotlib inline"
   ]
  },
  {
   "cell_type": "code",
   "execution_count": 3,
   "metadata": {},
   "outputs": [],
   "source": [
    "def crystal(size):\n",
    "    cry = np.zeros(size)\n",
    "    for i in range(size):\n",
    "        if random.random() > .5:\n",
    "            cry[i] = 1;\n",
    "        else:\n",
    "            cry[i] = -1;\n",
    "    return cry"
   ]
  },
  {
   "cell_type": "code",
   "execution_count": 4,
   "metadata": {},
   "outputs": [],
   "source": [
    "def energy(crystal):\n",
    "    e = 0\n",
    "    for i in range(len(crystal)-1):\n",
    "        if (crystal[i]+crystal[i+1]) == 0:\n",
    "            e -= 1\n",
    "        else:\n",
    "            e += 1\n",
    "    return e"
   ]
  },
  {
   "cell_type": "markdown",
   "metadata": {},
   "source": [
    "Now lets test out our crystal generation function and energy measuring function"
   ]
  },
  {
   "cell_type": "code",
   "execution_count": 5,
   "metadata": {},
   "outputs": [
    {
     "data": {
      "text/plain": [
       "array([ 1., -1., -1., -1.,  1.,  1.,  1.,  1.])"
      ]
     },
     "metadata": {},
     "output_type": "display_data"
    },
    {
     "data": {
      "text/plain": [
       "3"
      ]
     },
     "metadata": {},
     "output_type": "display_data"
    }
   ],
   "source": [
    "c = crystal(8)\n",
    "display(c)\n",
    "display(energy(c))"
   ]
  },
  {
   "cell_type": "markdown",
   "metadata": {},
   "source": [
    "Now let's use them in an actual simulation. (N=10, 100, 1000)"
   ]
  },
  {
   "cell_type": "code",
   "execution_count": 6,
   "metadata": {},
   "outputs": [
    {
     "name": "stdout",
     "output_type": "stream",
     "text": [
      "Crystal of size  10  AVG mag/atom:  0.3  \tSD:  0.7290000000000001\n",
      "Crystal of size  100  AVG mag/atom:  0.03  \tSD:  0.08820900000000002\n",
      "Crystal of size  1000  AVG mag/atom:  0.033  \tSD:  1.086823089\n"
     ]
    }
   ],
   "source": [
    "for i in range(1, 4):\n",
    "    c = crystal(10**i)\n",
    "    e = energy(c)\n",
    "    avg = e / (10**i)\n",
    "    sd = ((e-avg)**2) / (10**i)\n",
    "    print(\"Crystal of size \", 10**i, \" AVG mag/atom: \", avg, \" \\tSD: \", sd)"
   ]
  },
  {
   "cell_type": "code",
   "execution_count": 40,
   "metadata": {},
   "outputs": [],
   "source": [
    "##now lets generate a lot of crystals and map a histogram of the data\n",
    "def histoGenerate(nCry, crySize):\n",
    "    eList = np.zeros(nCry)\n",
    "    avgList = np.zeros(nCry)\n",
    "    sdList = np.zeros(nCry)\n",
    "    for i in range(nCry):\n",
    "        c = crystal(crySize)\n",
    "        e = energy(c)\n",
    "        eList[i] = e\n",
    "        avg = e / (crySize)\n",
    "        avgList[i] = avg\n",
    "        sd = ((e-avg)**2) / (crySize)\n",
    "        sdList[i] = sd\n",
    "\n",
    "    ## now lets graph this data\n",
    "    plt.hist(eList, facecolor='blue', alpha=0.5)\n",
    "    plt.hist(avgList, facecolor='red', alpha=0.5)\n",
    "    #plt.hist(sdList, facecolor='green', alpha=0.5)\n",
    "    \n",
    "    ##and calculate how many are within a standard deviation of the average\n",
    "    ##I expect the average energy to be 0 and the average average to be zero\n",
    "    withinSDavg = 0\n",
    "    for i in range(nCry):\n",
    "        if (abs(avgList[i] - 0) < sdList[i]):\n",
    "            withinSDavg+=1\n",
    "    return (withinSDavg/nCry)\n",
    "    \n",
    "    "
   ]
  },
  {
   "cell_type": "code",
   "execution_count": 51,
   "metadata": {},
   "outputs": [
    {
     "name": "stdout",
     "output_type": "stream",
     "text": [
      "51.6 % are within a standard deviation of the mean.\n"
     ]
    },
    {
     "data": {
      "image/png": "[encoded data removed]",
      "text/plain": [
       "<Figure size 432x288 with 1 Axes>"
      ]
     },
     "metadata": {},
     "output_type": "display_data"
    }
   ],
   "source": [
    "## so now we can do some simulations\n",
    "##lets generate 1000 10-crystals\n",
    "a = histoGenerate(1000, 10)\n",
    "print(a*100, \"% are within a standard deviation of the mean.\")"
   ]
  },
  {
   "cell_type": "code",
   "execution_count": 48,
   "metadata": {},
   "outputs": [
    {
     "name": "stdout",
     "output_type": "stream",
     "text": [
      "85.2 % are within a standard deviation of the mean.\n"
     ]
    },
    {
     "data": {
      "image/png": "[encoded data removed]",
      "text/plain": [
       "<Figure size 432x288 with 1 Axes>"
      ]
     },
     "metadata": {},
     "output_type": "display_data"
    }
   ],
   "source": [
    "##and 1000 100-crystals\n",
    "a = histoGenerate(1000, 100)\n",
    "print(a*100, \"% are within a standard deviation of the mean.\")"
   ]
  },
  {
   "cell_type": "code",
   "execution_count": 50,
   "metadata": {},
   "outputs": [
    {
     "name": "stdout",
     "output_type": "stream",
     "text": [
      "95.1 % are within a standard deviation of the mean.\n"
     ]
    },
    {
     "data": {
      "image/png": "[encoded data removed]",
      "text/plain": [
       "<Figure size 432x288 with 1 Axes>"
      ]
     },
     "metadata": {},
     "output_type": "display_data"
    }
   ],
   "source": [
    "##and 1000 1000-crystals\n",
    "a = histoGenerate(1000, 1000)\n",
    "print(a*100, \"% are within a standard deviation of the mean.\")"
   ]
  },
  {
   "cell_type": "markdown",
   "metadata": {},
   "source": [
    "honestly, I don't really remember my statistics. It's been 4 years, so I don't know if this makes sense. The histograms look good though. I think 50% is what I would expect, but I'm seeing the numbers increase with bigger crystals."
   ]
  },
  {
   "cell_type": "code",
   "execution_count": null,
   "metadata": {},
   "outputs": [],
   "source": []
  }
 ],
 "metadata": {
  "kernelspec": {
   "display_name": "Python 3",
   "language": "python",
   "name": "python3"
  },
  "language_info": {
   "codemirror_mode": {
    "name": "ipython",
    "version": 3
   },
   "file_extension": ".py",
   "mimetype": "text/x-python",
   "name": "python",
   "nbconvert_exporter": "python",
   "pygments_lexer": "ipython3",
   "version": "3.6.5"
  }
 },
 "nbformat": 4,
 "nbformat_minor": 2
}
