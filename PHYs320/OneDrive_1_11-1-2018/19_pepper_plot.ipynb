{
 "cells": [
  {
   "cell_type": "markdown",
   "metadata": {},
   "source": [
    "# Simulate dropping pepper on a circle inscribed within a square with random numbers\n",
    "\n",
    "The circle's diameter is the same length as the edge length of the square."
   ]
  },
  {
   "cell_type": "code",
   "execution_count": 1,
   "metadata": {},
   "outputs": [],
   "source": [
    "import random"
   ]
  },
  {
   "cell_type": "code",
   "execution_count": 2,
   "metadata": {},
   "outputs": [],
   "source": [
    "xes=[]\n",
    "ys=[]\n",
    "N=100\n",
    "n_circ=0\n",
    "n_edge=0\n",
    "for c in range(N):\n",
    "    # this is a linear transform that produces a flat distribution of x,y \\in [-1,1]\n",
    "    x=2.0*(random.random()-0.5)\n",
    "    y=2.0*(random.random()-0.5)\n",
    "    xes.append(x)\n",
    "    ys.append(y)\n",
    "    radius_from_center=(x**2+y**2)**0.5\n",
    "    if(radius_from_center>1.0):\n",
    "        n_edge = n_edge + 1\n",
    "    else:\n",
    "        n_circ = n_circ +1\n",
    "print(\"Fake data point: \",n_circ,n_edge)"
   ]
  },
  {
   "cell_type": "code",
   "execution_count": 3,
   "metadata": {},
   "outputs": [
    {
     "data": {
      "text/plain": [
       "Text(0.5,0,'x')"
      ]
     },
     "execution_count": 3,
     "metadata": {},
     "output_type": "execute_result"
    },
    {
     "data": {
      "image/png": "[encoded data removed]",
      "text/plain": [
       "<Figure size 432x288 with 1 Axes>"
      ]
     },
     "metadata": {},
     "output_type": "display_data"
    }
   ],
   "source": [
    "import matplotlib.pyplot as plt\n",
    "%matplotlib inline\n",
    "plt.plot(xes,ys,\"ro\")\n",
    "plt.ylabel(\"y\")\n",
    "plt.xlabel(\"x\")"
   ]
  },
  {
   "cell_type": "markdown",
   "metadata": {},
   "source": [
    "# Experiment!\n",
    "Now import a data file with the same data, collected by phys320 students in class on Oct-30"
   ]
  },
  {
   "cell_type": "code",
   "execution_count": 4,
   "metadata": {},
   "outputs": [],
   "source": [
    "import pandas"
   ]
  },
  {
   "cell_type": "code",
   "execution_count": 5,
   "metadata": {},
   "outputs": [],
   "source": [
    "data=pandas.read_csv(\"19_pepper_data.csv\")"
   ]
  },
  {
   "cell_type": "code",
   "execution_count": 6,
   "metadata": {},
   "outputs": [
    {
     "name": "stdout",
     "output_type": "stream",
     "text": [
      "    n_circ  n_edge Unnamed: 2\n",
      "0       17     6.0         \\t\n",
      "1       79    11.0         \\t\n",
      "2       33     6.0         \\t\n",
      "3       23    15.0         \\t\n",
      "4       29     8.0         \\t\n",
      "5        8     4.0         \\t\n",
      "6        9     0.5         \\t\n",
      "7       17     5.0         \\t\n",
      "8       20    12.0         \\t\n",
      "9       58    30.0         \\t\n",
      "10      57    24.0         \\t\n",
      "11      72    15.0         \\t\n",
      "12      99    31.0         \\t\n",
      "13      73    16.0         \\t\n"
     ]
    }
   ],
   "source": [
    "print(data)"
   ]
  },
  {
   "cell_type": "code",
   "execution_count": 7,
   "metadata": {},
   "outputs": [],
   "source": [
    "# pull the columns out as 1-d arrays\n",
    "n_edge=data.iloc[:,1].values\n",
    "n_circ=data.iloc[:,0].values"
   ]
  },
  {
   "cell_type": "code",
   "execution_count": 8,
   "metadata": {},
   "outputs": [],
   "source": [
    "n_total=n_edge+n_circ"
   ]
  },
  {
   "cell_type": "code",
   "execution_count": 9,
   "metadata": {},
   "outputs": [
    {
     "data": {
      "text/plain": [
       "Text(0.5,1,'Class data, 2018-Oct-30')"
      ]
     },
     "execution_count": 9,
     "metadata": {},
     "output_type": "execute_result"
    },
    {
     "data": {
      "image/png": "[encoded data removed]",
      "text/plain": [
       "<Figure size 432x288 with 1 Axes>"
      ]
     },
     "metadata": {},
     "output_type": "display_data"
    }
   ],
   "source": [
    "# Now, make a plot of the data from class\n",
    "import matplotlib.pyplot as plt\n",
    "%matplotlib inline\n",
    "plt.plot(n_circ,n_total,\"bx\")\n",
    "plt.ylabel(\"flecks in the circle\")\n",
    "plt.xlabel(\"flecks in the square\")\n",
    "plt.title(\"Class data, 2018-Oct-30\")"
   ]
  },
  {
   "cell_type": "code",
   "execution_count": 10,
   "metadata": {},
   "outputs": [
    {
     "data": {
      "text/plain": [
       "<matplotlib.legend.Legend at 0x1f9286837f0>"
      ]
     },
     "execution_count": 10,
     "metadata": {},
     "output_type": "execute_result"
    },
    {
     "data": {
      "image/png": "[encoded data removed]",
      "text/plain": [
       "<Figure size 432x288 with 1 Axes>"
      ]
     },
     "metadata": {},
     "output_type": "display_data"
    }
   ],
   "source": [
    "# Using sqrt(counts) as a measure of uncertainty\n",
    "a=n_circ**0.5\n",
    "b=n_total**0.5\n",
    "\n",
    "plt.errorbar(n_total, n_circ, xerr=b, yerr=a,linestyle=\"\",marker=\"o\",label=\"Class data\")\n",
    "plt.title(\"errorbars are $\\pm \\sqrt{N}$\")\n",
    "plt.legend()"
   ]
  },
  {
   "cell_type": "code",
   "execution_count": 11,
   "metadata": {},
   "outputs": [
    {
     "data": {
      "text/plain": [
       "<matplotlib.legend.Legend at 0x1f9286d8c50>"
      ]
     },
     "execution_count": 11,
     "metadata": {},
     "output_type": "execute_result"
    },
    {
     "data": {
      "image/png": "[encoded data removed]",
      "text/plain": [
       "<Figure size 432x288 with 1 Axes>"
      ]
     },
     "metadata": {},
     "output_type": "display_data"
    }
   ],
   "source": [
    "import numpy as np\n",
    "import math\n",
    "cx=np.arange(0,140,1)\n",
    "cy=(math.pi/4)*cx\n",
    "plt.plot(cx,cy,label=\"slope=$\\pi/4$\")\n",
    "\n",
    "plt.errorbar(n_total, n_circ, xerr=b, yerr=a,linestyle=\"\",marker=\"o\",label=\"Class data\")\n",
    "plt.title(\"errorbars are $\\pm \\sqrt{N}$\")\n",
    "plt.legend()"
   ]
  },
  {
   "cell_type": "markdown",
   "metadata": {},
   "source": [
    "# Some people asked about a trendline button\n",
    "A few assignments ago I asked you all to do the thinking behind a least-squares regression.  Here's a nice python package that does the same, but, better than what we derived, it can accommodate uncertainties in both x and y dimensions.\n",
    "\n",
    "https://docs.scipy.org/doc/scipy/reference/odr.html"
   ]
  },
  {
   "cell_type": "code",
   "execution_count": 18,
   "metadata": {},
   "outputs": [],
   "source": [
    "from scipy.odr import *"
   ]
  },
  {
   "cell_type": "code",
   "execution_count": 19,
   "metadata": {},
   "outputs": [],
   "source": [
    "# define the function I want to fit with\n",
    "# linear\n",
    "def f(B, x):\n",
    "    '''Linear function y = m*x + b'''\n",
    "    # B is a vector of the parameters.\n",
    "    # x is an array of the current x values.\n",
    "    # x is in the same format as the x passed to Data or RealData.\n",
    "    #\n",
    "    # Return an array in the same format as y passed to Data or RealData.\n",
    "    return B[0]*x + B[1]"
   ]
  },
  {
   "cell_type": "code",
   "execution_count": 20,
   "metadata": {},
   "outputs": [],
   "source": [
    "# create a model\n",
    "linear = Model(f)\n",
    "\n",
    "# define the data you want to fit - many ways to do this - I'm just going to use error bar weights (standard deviations)\n",
    "#mydata = RealData(x, y, sx=sx, sy=sy)\n",
    "mydata = RealData(n_total, n_circ, sx=n_total**0.5, sy=n_circ**0.5)"
   ]
  },
  {
   "cell_type": "code",
   "execution_count": 21,
   "metadata": {},
   "outputs": [],
   "source": [
    "# Instantiate ODR with your data, model and initial parameter estimate.:\n",
    "myodr = ODR(mydata, linear, beta0=[0.75, 0])"
   ]
  },
  {
   "cell_type": "code",
   "execution_count": 22,
   "metadata": {},
   "outputs": [],
   "source": [
    "# run the fit\n",
    "myoutput = myodr.run()"
   ]
  },
  {
   "cell_type": "code",
   "execution_count": 23,
   "metadata": {},
   "outputs": [
    {
     "name": "stdout",
     "output_type": "stream",
     "text": [
      "Beta: [ 0.77586045 -0.71618042]\n",
      "Beta Std Error: [0.03676243 1.52075554]\n",
      "Beta Covariance: [[ 4.05156727e-03 -1.25918657e-01]\n",
      " [-1.25918657e-01  6.93319399e+00]]\n",
      "Residual Variance: 0.33356882912401087\n",
      "Inverse Condition #: 0.0015950227861081525\n",
      "Reason(s) for Halting:\n",
      "  Sum of squares convergence\n"
     ]
    }
   ],
   "source": [
    "# look at the output\n",
    "myoutput.pprint()"
   ]
  },
  {
   "cell_type": "code",
   "execution_count": 28,
   "metadata": {},
   "outputs": [
    {
     "name": "stdout",
     "output_type": "stream",
     "text": [
      "[ 0.77586045 -0.71618042]\n"
     ]
    }
   ],
   "source": [
    "# what's the slope, intercept\n",
    "print(myodr.output.beta)\n",
    "# further output details here: https://docs.scipy.org/doc/scipy/reference/generated/scipy.odr.Output.html#scipy.odr.Output"
   ]
  },
  {
   "cell_type": "code",
   "execution_count": 30,
   "metadata": {},
   "outputs": [
    {
     "data": {
      "text/plain": [
       "-0.7161804177661818"
      ]
     },
     "execution_count": 30,
     "metadata": {},
     "output_type": "execute_result"
    }
   ],
   "source": [
    "myodr.output.beta[1]"
   ]
  },
  {
   "cell_type": "code",
   "execution_count": 31,
   "metadata": {},
   "outputs": [
    {
     "data": {
      "text/plain": [
       "<matplotlib.legend.Legend at 0x1f928a5c278>"
      ]
     },
     "execution_count": 31,
     "metadata": {},
     "output_type": "execute_result"
    },
    {
     "data": {
      "image/png": "[encoded data removed]",
      "text/plain": [
       "<Figure size 432x288 with 1 Axes>"
      ]
     },
     "metadata": {},
     "output_type": "display_data"
    }
   ],
   "source": [
    "# fx,fy are the fit from odr\n",
    "fx=np.arange(0,140,1)\n",
    "fy=myodr.output.beta[0]*cx+myodr.output.beta[1]\n",
    "plt.plot(fx,fy,label=\"ODR fit\")\n",
    "\n",
    "plt.plot(cx,cy,label=\"slope=$\\pi/4$\")\n",
    "\n",
    "plt.errorbar(n_total, n_circ, xerr=b, yerr=a,linestyle=\"\",marker=\"o\",label=\"Class data\")\n",
    "plt.title(\"errorbars are $\\pm \\sqrt{N}$\")\n",
    "plt.legend()"
   ]
  },
  {
   "cell_type": "code",
   "execution_count": null,
   "metadata": {},
   "outputs": [],
   "source": []
  }
 ],
 "metadata": {
  "kernelspec": {
   "display_name": "Python 3",
   "language": "python",
   "name": "python3"
  },
  "language_info": {
   "codemirror_mode": {
    "name": "ipython",
    "version": 3
   },
   "file_extension": ".py",
   "mimetype": "text/x-python",
   "name": "python",
   "nbconvert_exporter": "python",
   "pygments_lexer": "ipython3",
   "version": "3.6.5"
  }
 },
 "nbformat": 4,
 "nbformat_minor": 2
}
